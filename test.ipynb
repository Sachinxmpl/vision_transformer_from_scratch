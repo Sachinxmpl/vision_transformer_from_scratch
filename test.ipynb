{
 "cells": [
  {
   "cell_type": "code",
   "execution_count": 37,
   "id": "bdc5fcdb",
   "metadata": {},
   "outputs": [
    {
     "name": "stdout",
     "output_type": "stream",
     "text": [
      "Original shape (959, 675, 3)\n"
     ]
    },
    {
     "data": {
      "text/plain": [
       "torch.Size([1, 196, 768])"
      ]
     },
     "execution_count": 37,
     "metadata": {},
     "output_type": "execute_result"
    }
   ],
   "source": [
    "import matplotlib.image as mpimage\n",
    "import matplotlib.pyplot as plt \n",
    "from torchvision import transforms\n",
    "\n",
    "from models.PatchEmbedding import PatchEmbedding\n",
    "\n",
    "\n",
    "img = mpimage.imread('75.jpg')\n",
    "print(\"Original shape\" , img.shape)\n",
    "\n",
    "transform = transforms.Compose([\n",
    "    transforms.ToPILImage() , \n",
    "    transforms.Resize((224 , 224)) , \n",
    "    transforms.ToTensor()\n",
    "])\n",
    "img_tensor = transform(img).unsqueeze(0)\n",
    "img_tensor.shape\n",
    "\n",
    "patcher = PatchEmbedding()\n",
    "out = patcher(img_tensor)\n",
    "out.shape"
   ]
  },
  {
   "cell_type": "code",
   "execution_count": null,
   "id": "b5b7f59b",
   "metadata": {},
   "outputs": [],
   "source": []
  }
 ],
 "metadata": {
  "kernelspec": {
   "display_name": "Python (pythonvirtual)",
   "language": "python",
   "name": "pythonvirtual"
  },
  "language_info": {
   "codemirror_mode": {
    "name": "ipython",
    "version": 3
   },
   "file_extension": ".py",
   "mimetype": "text/x-python",
   "name": "python",
   "nbconvert_exporter": "python",
   "pygments_lexer": "ipython3",
   "version": "3.10.12"
  }
 },
 "nbformat": 4,
 "nbformat_minor": 5
}
